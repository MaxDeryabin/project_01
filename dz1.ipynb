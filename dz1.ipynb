{
  "nbformat": 4,
  "nbformat_minor": 0,
  "metadata": {
    "colab": {
      "provenance": []
    },
    "kernelspec": {
      "name": "python3",
      "display_name": "Python 3"
    },
    "language_info": {
      "name": "python"
    }
  },
  "cells": [
    {
      "cell_type": "code",
      "execution_count": null,
      "metadata": {
        "colab": {
          "base_uri": "https://localhost:8080/"
        },
        "id": "K5IZbt2iqpSZ",
        "outputId": "634576d4-f4c8-4022-ab2d-225bdd8153b6"
      },
      "outputs": [
        {
          "output_type": "stream",
          "name": "stdout",
          "text": [
            "Первый трек = Waste a Moment\n",
            "Последниый трек = New Salvation\n",
            "Втрой трек = Staying' Alive\n",
            "Второй трек с конца = Start Me Up\n"
          ]
        }
      ],
      "source": [
        "my_favorite_songs = 'Waste a Moment, Staying\\' Alive, A Sorta Fairytale, Start Me Up, New Salvation'\n",
        "string_lenght = len(my_favorite_songs)\n",
        "print(\"Первый трек =\", my_favorite_songs[0:14])\n",
        "print(\"Последниый трек =\", my_favorite_songs[64:77])\n",
        "print(\"Втрой трек =\", my_favorite_songs[16:30])\n",
        "print(\"Второй трек с конца =\", my_favorite_songs[51:62])"
      ]
    },
    {
      "cell_type": "code",
      "source": [
        "my_favorite_songs = [\n",
        "    ['Waste a Moment', 3.03],\n",
        "    ['New Salvation', 4.02],\n",
        "    ['Staying\\' Alive', 3.40],\n",
        "    ['Out of Touch', 3.03],\n",
        "    ['A Sorta Fairytale', 5.28],\n",
        "    ['Easy', 4.15],\n",
        "    ['Beautiful Day', 4.04],\n",
        "    ['Nowhere to Run', 2.58],\n",
        "    ['In This World', 4.02],\n",
        "]\n",
        "import random\n",
        "print(\"Три песни звучат\", sum(x[1] for x in random.choices (my_favorite_songs, k=3)), \"минут\")\n"
      ],
      "metadata": {
        "colab": {
          "base_uri": "https://localhost:8080/"
        },
        "id": "l0KHO4sjzp0e",
        "outputId": "f6ae7bc3-4aef-4b23-e1f2-5be1a73ea619"
      },
      "execution_count": null,
      "outputs": [
        {
          "output_type": "stream",
          "name": "stdout",
          "text": [
            "Три песни звучат 10.58 минут\n"
          ]
        }
      ]
    },
    {
      "cell_type": "code",
      "source": [
        "my_favorite_songs_dict = {\n",
        "    'Waste a Moment': 3.03,\n",
        "    'New Salvation': 4.02,\n",
        "    'Staying\\' Alive': 3.40,\n",
        "    'Out of Touch': 3.03,\n",
        "    'A Sorta Fairytale': 5.28,\n",
        "    'Easy': 4.15,\n",
        "    'Beautiful Day': 4.04,\n",
        "    'Nowhere to Run': 2.58,\n",
        "    'In This World': 4.02,\n",
        "}\n",
        "import random\n",
        "print(\"Три песни звучат\", sum(x[1] for x in random.choices (my_favorite_songs, k=3)), \"минут\")\n",
        "import datetime\n",
        "n=sum(x[1] for x in random.choices (my_favorite_songs, k=3))\n",
        "time_format=str(datetime.timedelta(seconds=n))\n",
        "print (\"три песни звучат\",time_format)\n",
        "\n",
        "                                    "
      ],
      "metadata": {
        "colab": {
          "base_uri": "https://localhost:8080/"
        },
        "id": "BN0uXqSWxF5o",
        "outputId": "925d8446-ee80-43c6-ca27-1c7c17129ceb"
      },
      "execution_count": null,
      "outputs": [
        {
          "output_type": "stream",
          "name": "stdout",
          "text": [
            "Три песни звучат 12.209999999999999 минут\n",
            "три песни звучат 0:00:09.830000\n"
          ]
        }
      ]
    },
    {
      "cell_type": "code",
      "source": [
        "user_input = input(\"Введите, пожалуйста, номер месяца: \")\n",
        "month = int(user_input)\n",
        "print(\"Вы ввели\", month)\n",
        "if month == 1: \n",
        "  print(\"Январь\")\n",
        "if 0 < month < 13:\n",
        "    if month in (1, 3, 5, 7, 8, 10, 12):\n",
        "        print(\"Вы ввели\", 31, \"день\")\n",
        "    elif month in (4, 6, 9, 11):\n",
        "        print(\"Вы ввели\", 30, \"дней\")\n",
        "    elif month == 2:\n",
        "        print(\"Вы ввели\", 28, \"дней\")\n",
        "else:\n",
        "    print(\"Такого месяца нет!\")"
      ],
      "metadata": {
        "colab": {
          "base_uri": "https://localhost:8080/"
        },
        "id": "jmJbHnrb2vkf",
        "outputId": "4f6fc36b-6f60-4088-ab4a-eda1292eb3ae"
      },
      "execution_count": null,
      "outputs": [
        {
          "output_type": "stream",
          "name": "stdout",
          "text": [
            "Введите, пожалуйста, номер месяца: 2\n",
            "Вы ввели 2\n",
            "Вы ввели 28 дней\n"
          ]
        }
      ]
    },
    {
      "cell_type": "code",
      "source": [
        "titles = {\n",
        "    'Кроссовки тип 3 (Adidas)': '100000110',\n",
        "    'Мячик тип 2 (Adidas)': '100000146',\n",
        "    'Кепка тип 1 (Adidas)': '100000149',\n",
        "    'Ремень тип 2 (Nike)': '100000194',\n",
        "    'Футболка тип 1 (Adidas)': '100000224',\n",
        "    'Шапка тип 5 (Puma)': '100000280',\n",
        "}\n",
        "store = {\n",
        "    '100000110': [{'quantity': 31, 'price': 1637}],\n",
        "    '100000146': [ {'quantity': 4, 'price': 45}, {'quantity': 10, 'price': 48}],\n",
        "    '100000149': [ {'quantity': 28, 'price': 279}, {'quantity': 32, 'price': 291}],\n",
        "    '100000194': [{'quantity': 8, 'price': 220}, {'quantity': 1, 'price': 170}],\n",
        "    '100000224': [{'quantity': 61, 'price': 438}, {'quantity': 23, 'price': 302},  {'quantity': 50, 'price': 412}],\n",
        "    '100000280': [{'quantity': 26, 'price': 175}, ]\n",
        "}\n",
        "for name_titles in titles:\n",
        "    code_titles = titles[name_titles]\n",
        "    total_price = 0\n",
        "    total_quantity = 0\n",
        "    for quantity_price in store[code_titles]:\n",
        "        total_price = total_price + quantity_price['quantity'] * quantity_price['price']\n",
        "        total_quantity += quantity_price['quantity']\n",
        "    print(name_titles, '-', total_quantity, 'шт, общей стоимостью', total_price, 'рублей.')\n",
        "\n",
        "\n"
      ],
      "metadata": {
        "id": "brxZSPDG_XW1",
        "colab": {
          "base_uri": "https://localhost:8080/"
        },
        "outputId": "a3703c77-e757-4c95-a1ff-c6f9a5425f20"
      },
      "execution_count": null,
      "outputs": [
        {
          "output_type": "stream",
          "name": "stdout",
          "text": [
            "Кроссовки тип 3 (Adidas) - 31 шт, общей стоимостью 50747 рублей.\n",
            "Мячик тип 2 (Adidas) - 14 шт, общей стоимостью 660 рублей.\n",
            "Кепка тип 1 (Adidas) - 60 шт, общей стоимостью 17124 рублей.\n",
            "Ремень тип 2 (Nike) - 9 шт, общей стоимостью 1930 рублей.\n",
            "Футболка тип 1 (Adidas) - 134 шт, общей стоимостью 54264 рублей.\n",
            "Шапка тип 5 (Puma) - 26 шт, общей стоимостью 4550 рублей.\n"
          ]
        }
      ]
    }
  ]
}