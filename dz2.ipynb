{
  "nbformat": 4,
  "nbformat_minor": 0,
  "metadata": {
    "colab": {
      "provenance": [],
      "toc_visible": true
    },
    "kernelspec": {
      "name": "python3",
      "display_name": "Python 3"
    },
    "language_info": {
      "name": "python"
    }
  },
  "cells": [
    {
      "cell_type": "code",
      "source": [
        "arr = list(map(int, input('Введите список: ').split()))\n",
        "def maximum(arr):\n",
        "    return max(arr)\n",
        "    \n",
        "\n",
        "def minimum(arr):\n",
        "    return min(arr)\n",
        "print(\"Максимальное значение =\", maximum(arr))\n",
        "print(\"Минимальное значение =\", minimum(arr))"
      ],
      "metadata": {
        "colab": {
          "base_uri": "https://localhost:8080/"
        },
        "id": "3PDC-KAMCJxP",
        "outputId": "def0af03-9254-4720-b3b1-3718ee906894"
      },
      "execution_count": null,
      "outputs": [
        {
          "output_type": "stream",
          "name": "stdout",
          "text": [
            "Введите список: -3 5 -9 44 0\n",
            "Максимальное значение = 44\n",
            "Минимальное значение = -9\n"
          ]
        }
      ]
    },
    {
      "cell_type": "code",
      "source": [
        "def quarter_of(month):\n",
        "    if month in range(1,4): return(1)\n",
        "    if month in range(4,7): return(2)\n",
        "    if month in range(7,10): return(3)\n",
        "    if month in range(10,13): return(4)"
      ],
      "metadata": {
        "id": "26WtOW2YX2H4"
      },
      "execution_count": null,
      "outputs": []
    },
    {
      "cell_type": "code",
      "source": [
        "def switch_it_up(number):\n",
        "    switcher = {\n",
        "        0: \"Zero\",\n",
        "        1: \"One\",\n",
        "        2: \"Two\",\n",
        "        3: \"Three\",\n",
        "        4: \"Four\",\n",
        "        5: \"Five\",\n",
        "        6: \"Six\",\n",
        "        7: \"Seven\",\n",
        "        8: \"Eight\",\n",
        "        9: \"Nine\",\n",
        "    }\n",
        "    return switcher.get(number)"
      ],
      "metadata": {
        "id": "LRQVeHBEZbk8"
      },
      "execution_count": null,
      "outputs": []
    },
    {
      "cell_type": "code",
      "source": [
        "def remove_exclamation_marks(s):\n",
        "    return s.replace(\"!\", \"\")"
      ],
      "metadata": {
        "id": "6xkNu2MZZejl"
      },
      "execution_count": null,
      "outputs": []
    },
    {
      "cell_type": "code",
      "source": [
        "def remove_last_em(s):\n",
        "    return s[:-1] if s and s[-1] == '!' else s\n"
      ],
      "metadata": {
        "id": "etGNxcHyqNrJ"
      },
      "execution_count": null,
      "outputs": []
    },
    {
      "cell_type": "code",
      "source": [
        "def remove(s): \n",
        " return ' '.join(w for w in s.split() if w.count('!') != 1)\n",
        "print(remove(\"Hi!\"))\n",
        "print(remove(\"Hi! Hi!\"))\n",
        "print(remove(\"Hi! Hi! Hi!\"))\n",
        "print(remove(\"Hi Hi! Hi!\"))\n",
        "print(remove(\"Hi! !Hi Hi!\"))\n",
        "print(remove(\"Hi! Hi!! Hi!\"))\n",
        "print(remove(\"Hi! !Hi! Hi!\"))"
      ],
      "metadata": {
        "colab": {
          "base_uri": "https://localhost:8080/"
        },
        "id": "XdpuXdpivcuX",
        "outputId": "031179b4-7a6a-4162-a191-14378e5259fa"
      },
      "execution_count": null,
      "outputs": [
        {
          "output_type": "stream",
          "name": "stdout",
          "text": [
            "\n",
            "\n",
            "\n",
            "Hi\n",
            "\n",
            "Hi!!\n",
            "!Hi!\n"
          ]
        }
      ]
    }
  ]
}